{
 "cells": [
  {
   "cell_type": "markdown",
   "metadata": {
    "slideshow": {
     "slide_type": "slide"
    }
   },
   "source": [
    "# Hybrid Models for Recommendation Systems"
   ]
  },
  {
   "cell_type": "markdown",
   "metadata": {
    "slideshow": {
     "slide_type": "slide"
    }
   },
   "source": [
    "Load Pandas, we are going to need it for manipulating data"
   ]
  },
  {
   "cell_type": "code",
   "execution_count": 2,
   "metadata": {
    "slideshow": {
     "slide_type": "fragment"
    }
   },
   "outputs": [],
   "source": [
    "import pandas as pd\n",
    "import numpy as np\n",
    "from IPython.display import Image\n",
    "np.set_printoptions(precision = 3)"
   ]
  },
  {
   "cell_type": "markdown",
   "metadata": {
    "slideshow": {
     "slide_type": "slide"
    }
   },
   "source": [
    "Now load the data"
   ]
  },
  {
   "cell_type": "code",
   "execution_count": 3,
   "metadata": {
    "slideshow": {
     "slide_type": "fragment"
    }
   },
   "outputs": [
    {
     "name": "stdout",
     "output_type": "stream",
     "text": [
      "\\begin{tabular}{lrrrrrrrl}\n",
      "\\toprule\n",
      "Empty DataFrame\n",
      "Columns: Index(['Sex', ' Over60', 'key', 'user\\_id', 'Critic0', ' Critic1', 'item\\_id',\n",
      "       'rating'],\n",
      "      dtype='object')\n",
      "Index: Int64Index([], dtype='int64') \\\\\n",
      "\\bottomrule\n",
      "\\end{tabular}\n",
      "\n"
     ]
    }
   ],
   "source": [
    "user_ratings_df = pd.read_csv(\"user_ratings.csv\")\n",
    "user_features_df = pd.read_csv(\"user_features.csv\")\n",
    "item_features_df = pd.read_csv(\"item_features.csv\")\n",
    "\n",
    "\n",
    "user_features_df[\"key\"] = 0\n",
    "user_features_df[\"user_id\"] = range(0,user_features_df.shape[0])\n",
    "item_features_df[\"key\"] = 0\n",
    "item_features_df[\"item_id\"] = range(0,item_features_df.shape[0])\n",
    "\n",
    "merged_df = pd.merge(user_features_df, item_features_df,left_index=True,on=\"key\")\n",
    "merged_df[[\"item_id\", \"user_id\"]]\n",
    "\n",
    "\n",
    "\n",
    "\n",
    "merged_df[\"rating\"] = map(lambda ids: user_ratings_df.values[ids[1]][ids[2]], \n",
    "                          merged_df[[\"user_id\", \"item_id\"]].itertuples())\n",
    "\n",
    "train = merged_df.dropna()\n",
    "\n",
    "test = merged_df[merged_df.isnull().any(axis=1)]\n",
    "\n",
    "print(test.to_latex())\n",
    "\n"
   ]
  },
  {
   "cell_type": "code",
   "execution_count": 4,
   "metadata": {
    "slideshow": {
     "slide_type": "slide"
    }
   },
   "outputs": [
    {
     "name": "stdout",
     "output_type": "stream",
     "text": [
      "\\begin{tabular}{lrrrr}\n",
      "\\toprule\n",
      "{} &  Critic0 &   Critic1 &  key &  item\\_id \\\\\n",
      "\\midrule\n",
      "0 &      0.3 &       0.9 &    0 &        0 \\\\\n",
      "1 &      0.9 &       0.3 &    0 &        1 \\\\\n",
      "2 &      0.6 &       0.4 &    0 &        2 \\\\\n",
      "3 &      0.2 &       0.1 &    0 &        3 \\\\\n",
      "4 &      0.7 &       0.8 &    0 &        4 \\\\\n",
      "\\bottomrule\n",
      "\\end{tabular}\n",
      "\n"
     ]
    }
   ],
   "source": [
    "n_latent_features = 2\n",
    "\n",
    "data = pd.read_csv(\"user_ratings.csv\")\n",
    "user_ratings = data.values\n",
    "latent_user_preferences = np.random.random((user_ratings.shape[0], n_latent_features))\n",
    "latent_item_features = np.random.random((user_ratings.shape[1],n_latent_features))\n",
    "\n",
    "user_features = user_features_df.values\n",
    "item_features = item_features_df.values\n",
    "\n",
    "print(item_features_df.to_latex())\n",
    "\n",
    "\n",
    "user_features = np.concatenate([np.ones(shape = (user_features.shape[0],1)), user_features], axis = 1)\n",
    "item_features = np.concatenate([np.ones(shape = (item_features.shape[0],1)), item_features], axis = 1)\n",
    "\n",
    "\n",
    "\n",
    "user_features_weights = np.random.random((user_ratings.shape[0], user_features.shape[1] ))\n",
    "item_features_weights = np.random.random((user_ratings.shape[1],item_features.shape[1] ))\n",
    "\n",
    "\n",
    "\n",
    "# print user_features"
   ]
  },
  {
   "cell_type": "code",
   "execution_count": 5,
   "metadata": {
    "slideshow": {
     "slide_type": "slide"
    }
   },
   "outputs": [],
   "source": [
    "def predict_rating(user_id,item_id):\n",
    "    \"\"\" Predict a rating given a user_id and an item_id.\n",
    "    \"\"\"\n",
    "    user_preference = latent_user_preferences[user_id]\n",
    "    item_preference = latent_item_features[item_id]\n",
    "    \n",
    "    user_score = user_features_weights[user_id].dot(user_features[user_id])\n",
    "    item_score = item_features_weights[item_id].dot(item_features[item_id])\n",
    "    #print user_preference.dot(item_preference), user_score, item_score\n",
    "    return user_preference.dot(item_preference) + user_score + item_score\n",
    "\n",
    "def train(user_id, item_id, rating,alpha = 0.001, \n",
    "                                   latent_feature_weight_decay = 0.1, \n",
    "                                   user_weight_decay = 0.01,\n",
    "                                   item_weight_decay = 0.0001):\n",
    "    \n",
    "    #print item_id\n",
    "    prediction_rating = predict_rating(user_id, item_id)\n",
    "    err =  ( prediction_rating - rating );\n",
    "    #print err\n",
    "    user_pref_values = latent_user_preferences[user_id][:]\n",
    "    latent_user_preferences[user_id] -= alpha * err *  ( latent_item_features[item_id] + latent_feature_weight_decay*latent_user_preferences[user_id])\n",
    "    latent_item_features[item_id] -= alpha * err * ( user_pref_values + latent_feature_weight_decay*latent_item_features[item_id])\n",
    "    \n",
    "    user_features_weights[user_id] -=alpha * err *(  user_features[user_id] + user_weight_decay* user_features_weights[user_id])\n",
    "    item_features_weights[item_id] -=alpha * err * ( item_features_weights[item_id] + item_weight_decay* item_features_weights[item_id])\n",
    "    \n",
    "    \n",
    "    return err\n",
    "    \n",
    "\n",
    "\n",
    "def sgd(iterations = 30000):\n",
    "    \"\"\" Iterate over all users and all items and train for \n",
    "        a certain number of iterations\n",
    "    \"\"\"\n",
    "    for iteration in range(0,iterations):\n",
    "        error = []\n",
    "        for user_id in range(0,latent_user_preferences.shape[0]):\n",
    "            for item_id in range(0,latent_item_features.shape[0]):\n",
    "                rating = user_ratings[user_id][item_id]\n",
    "                if(not np.isnan(rating)):\n",
    "                    err = train(user_id,item_id,rating)\n",
    "                    error.append(err)\n",
    "    mse = (np.array(error) ** 2).mean()          \n",
    "    print(mse)\n",
    "                    \n",
    "                    \n",
    "    \n",
    "                    \n",
    "                    \n",
    "    \n"
   ]
  },
  {
   "cell_type": "code",
   "execution_count": 6,
   "metadata": {
    "slideshow": {
     "slide_type": "fragment"
    }
   },
   "outputs": [
    {
     "name": "stdout",
     "output_type": "stream",
     "text": [
      "0.2784118624526648\n",
      "0.27465582557887536\n",
      "0.27356026126090294\n",
      "0.27309965063858094\n",
      "0.27288762940386946\n",
      "0.27279997013799223\n",
      "0.27278551914076804\n",
      "0.2728199965824466\n",
      "0.2728908906685253\n",
      "0.272991531294393\n"
     ]
    }
   ],
   "source": [
    "for _ in range(0,10): \n",
    "    sgd()"
   ]
  },
  {
   "cell_type": "code",
   "execution_count": 8,
   "metadata": {
    "slideshow": {
     "slide_type": "slide"
    }
   },
   "outputs": [
    {
     "name": "stdout",
     "output_type": "stream",
     "text": [
      "[[ 1.167  0.606  0.713  0.086  0.621]\n",
      " [-0.749  0.357 -0.931  0.577 -1.077]\n",
      " [ 0.768  0.372  0.296  0.003  0.681]\n",
      " [ 0.273  0.8    0.531  0.312  0.774]\n",
      " [ 0.513  0.302  0.586  0.922 -0.211]\n",
      " [ 1.308  0.433  0.148  0.031  2.947]\n",
      " [ 0.564  0.734  0.207  0.382 -0.107]\n",
      " [ 0.064  0.576  0.073  0.621  0.131]\n",
      " [ 0.629  0.207  0.383  0.299 -0.617]\n",
      " [ 0.43   0.037  0.02   0.34  -0.234]]\n",
      "[[1.685 0.391 1.701 1.732 0.525]\n",
      " [0.041 0.014 0.023 0.021 0.028]\n",
      " [0.089 0.162 0.108 0.132 0.128]\n",
      " [0.238 0.292 0.449 0.02  0.724]\n",
      " [1.154 0.353 2.689 2.038 1.702]]\n"
     ]
    }
   ],
   "source": [
    "predictions = np.zeros(shape = (latent_user_preferences.shape[0], latent_item_features.shape[0]) )\n",
    "#print latent_user_preferences\n",
    "print(user_features_weights)\n",
    "print(item_features_weights)\n",
    "for user_id in range(0,latent_user_preferences.shape[0]):\n",
    "            for item_id in range(0,latent_item_features.shape[0]):\n",
    "                predictions[user_id,item_id] =  predict_rating(user_id,item_id)"
   ]
  },
  {
   "cell_type": "code",
   "execution_count": 11,
   "metadata": {
    "slideshow": {
     "slide_type": "slide"
    }
   },
   "outputs": [
    {
     "data": {
      "text/html": [
       "<div>\n",
       "<style scoped>\n",
       "    .dataframe tbody tr th:only-of-type {\n",
       "        vertical-align: middle;\n",
       "    }\n",
       "\n",
       "    .dataframe tbody tr th {\n",
       "        vertical-align: top;\n",
       "    }\n",
       "\n",
       "    .dataframe thead th {\n",
       "        text-align: right;\n",
       "    }\n",
       "</style>\n",
       "<table border=\"1\" class=\"dataframe\">\n",
       "  <thead>\n",
       "    <tr style=\"text-align: right;\">\n",
       "      <th></th>\n",
       "      <th>The Call of Cthulhu</th>\n",
       "      <th>Frankenstein</th>\n",
       "      <th>Dracula</th>\n",
       "      <th>Neuromancer</th>\n",
       "      <th>Space Odyssey</th>\n",
       "    </tr>\n",
       "  </thead>\n",
       "  <tbody>\n",
       "    <tr>\n",
       "      <th>0</th>\n",
       "      <td>(8.0, 7.937461665902083)</td>\n",
       "      <td>(2.0, 2.230408015977145)</td>\n",
       "      <td>(nan, 21.305346004349676)</td>\n",
       "      <td>(5.0, 4.854874025125911)</td>\n",
       "      <td>(4.0, 3.979170367041119)</td>\n",
       "    </tr>\n",
       "    <tr>\n",
       "      <th>1</th>\n",
       "      <td>(3.0, 2.9031634208352513)</td>\n",
       "      <td>(2.0, 2.3626270492362296)</td>\n",
       "      <td>(nan, -32.43760797595069)</td>\n",
       "      <td>(7.0, 6.770739934219383)</td>\n",
       "      <td>(7.0, 6.967427917574499)</td>\n",
       "    </tr>\n",
       "    <tr>\n",
       "      <th>2</th>\n",
       "      <td>(9.0, 8.936872043625552)</td>\n",
       "      <td>(nan, 4.62947920461969)</td>\n",
       "      <td>(7.0, 7.007523883949421)</td>\n",
       "      <td>(8.0, 8.05253363576117)</td>\n",
       "      <td>(5.0, 4.99980228710435)</td>\n",
       "    </tr>\n",
       "    <tr>\n",
       "      <th>3</th>\n",
       "      <td>(nan, 8.911220840185965)</td>\n",
       "      <td>(nan, 4.961328156890585)</td>\n",
       "      <td>(7.0, 7.000029181451457)</td>\n",
       "      <td>(8.0, 7.999282811614534)</td>\n",
       "      <td>(9.0, 8.999434839211375)</td>\n",
       "    </tr>\n",
       "    <tr>\n",
       "      <th>4</th>\n",
       "      <td>(nan, 4.910293189089428)</td>\n",
       "      <td>(1.0, 0.6839165979097902)</td>\n",
       "      <td>(8.0, 8.006541889287751)</td>\n",
       "      <td>(3.0, 3.2661322265232484)</td>\n",
       "      <td>(7.0, 7.027800003692679)</td>\n",
       "    </tr>\n",
       "    <tr>\n",
       "      <th>5</th>\n",
       "      <td>(2.0, 2.004927191735232)</td>\n",
       "      <td>(3.0, 2.9947382798376596)</td>\n",
       "      <td>(5.0, 4.999660795436882)</td>\n",
       "      <td>(nan, 0.013057630909453444)</td>\n",
       "      <td>(nan, 62.47900275294873)</td>\n",
       "    </tr>\n",
       "    <tr>\n",
       "      <th>6</th>\n",
       "      <td>(4.0, 4.445074053328606)</td>\n",
       "      <td>(2.0, 0.38687141440726003)</td>\n",
       "      <td>(nan, 6.265689044341696)</td>\n",
       "      <td>(2.0, 2.9806443877675424)</td>\n",
       "      <td>(7.0, 7.1410499097625175)</td>\n",
       "    </tr>\n",
       "    <tr>\n",
       "      <th>7</th>\n",
       "      <td>(7.0, 6.441100212372691)</td>\n",
       "      <td>(1.0, 2.9222877609108746)</td>\n",
       "      <td>(2.0, 2.063901357001854)</td>\n",
       "      <td>(7.0, 5.869238391549164)</td>\n",
       "      <td>(9.0, 8.835279563444987)</td>\n",
       "    </tr>\n",
       "    <tr>\n",
       "      <th>8</th>\n",
       "      <td>(3.0, 3.160004846127212)</td>\n",
       "      <td>(3.0, 2.4268554621594616)</td>\n",
       "      <td>(nan, -34.150554593351565)</td>\n",
       "      <td>(7.0, 7.336587176910389)</td>\n",
       "      <td>(3.0, 3.048345542170628)</td>\n",
       "    </tr>\n",
       "    <tr>\n",
       "      <th>9</th>\n",
       "      <td>(4.0, 4.166602142659847)</td>\n",
       "      <td>(nan, -0.14548044907313837)</td>\n",
       "      <td>(5.0, 4.993109604031358)</td>\n",
       "      <td>(3.0, 2.8690220220589433)</td>\n",
       "      <td>(3.0, 2.999173225008306)</td>\n",
       "    </tr>\n",
       "  </tbody>\n",
       "</table>\n",
       "</div>"
      ],
      "text/plain": [
       "         The Call of Cthulhu                 Frankenstein  \\\n",
       "0   (8.0, 7.937461665902083)     (2.0, 2.230408015977145)   \n",
       "1  (3.0, 2.9031634208352513)    (2.0, 2.3626270492362296)   \n",
       "2   (9.0, 8.936872043625552)      (nan, 4.62947920461969)   \n",
       "3   (nan, 8.911220840185965)     (nan, 4.961328156890585)   \n",
       "4   (nan, 4.910293189089428)    (1.0, 0.6839165979097902)   \n",
       "5   (2.0, 2.004927191735232)    (3.0, 2.9947382798376596)   \n",
       "6   (4.0, 4.445074053328606)   (2.0, 0.38687141440726003)   \n",
       "7   (7.0, 6.441100212372691)    (1.0, 2.9222877609108746)   \n",
       "8   (3.0, 3.160004846127212)    (3.0, 2.4268554621594616)   \n",
       "9   (4.0, 4.166602142659847)  (nan, -0.14548044907313837)   \n",
       "\n",
       "                      Dracula                  Neuromancer  \\\n",
       "0   (nan, 21.305346004349676)     (5.0, 4.854874025125911)   \n",
       "1   (nan, -32.43760797595069)     (7.0, 6.770739934219383)   \n",
       "2    (7.0, 7.007523883949421)      (8.0, 8.05253363576117)   \n",
       "3    (7.0, 7.000029181451457)     (8.0, 7.999282811614534)   \n",
       "4    (8.0, 8.006541889287751)    (3.0, 3.2661322265232484)   \n",
       "5    (5.0, 4.999660795436882)  (nan, 0.013057630909453444)   \n",
       "6    (nan, 6.265689044341696)    (2.0, 2.9806443877675424)   \n",
       "7    (2.0, 2.063901357001854)     (7.0, 5.869238391549164)   \n",
       "8  (nan, -34.150554593351565)     (7.0, 7.336587176910389)   \n",
       "9    (5.0, 4.993109604031358)    (3.0, 2.8690220220589433)   \n",
       "\n",
       "               Space Odyssey  \n",
       "0   (4.0, 3.979170367041119)  \n",
       "1   (7.0, 6.967427917574499)  \n",
       "2    (5.0, 4.99980228710435)  \n",
       "3   (9.0, 8.999434839211375)  \n",
       "4   (7.0, 7.027800003692679)  \n",
       "5   (nan, 62.47900275294873)  \n",
       "6  (7.0, 7.1410499097625175)  \n",
       "7   (9.0, 8.835279563444987)  \n",
       "8   (3.0, 3.048345542170628)  \n",
       "9   (3.0, 2.999173225008306)  "
      ]
     },
     "execution_count": 11,
     "metadata": {},
     "output_type": "execute_result"
    }
   ],
   "source": [
    "values = [zip(user_ratings[i], predictions[i]) for i in range(0,predictions.shape[0])]\n",
    "comparison_data = pd.DataFrame(values)\n",
    "comparison_data.columns = data.columns\n",
    "comparison_data#.applymap(lambda(x,y): \"(%2.3f|%2.3f)\"%(x,y))"
   ]
  },
  {
   "cell_type": "code",
   "execution_count": 12,
   "metadata": {
    "slideshow": {
     "slide_type": "fragment"
    }
   },
   "outputs": [
    {
     "data": {
      "text/html": [
       "<div>\n",
       "<style scoped>\n",
       "    .dataframe tbody tr th:only-of-type {\n",
       "        vertical-align: middle;\n",
       "    }\n",
       "\n",
       "    .dataframe tbody tr th {\n",
       "        vertical-align: top;\n",
       "    }\n",
       "\n",
       "    .dataframe thead th {\n",
       "        text-align: right;\n",
       "    }\n",
       "</style>\n",
       "<table border=\"1\" class=\"dataframe\">\n",
       "  <thead>\n",
       "    <tr style=\"text-align: right;\">\n",
       "      <th></th>\n",
       "      <th>The Call of Cthulhu</th>\n",
       "      <th>Frankenstein</th>\n",
       "      <th>Dracula</th>\n",
       "      <th>Neuromancer</th>\n",
       "      <th>Space Odyssey</th>\n",
       "    </tr>\n",
       "  </thead>\n",
       "  <tbody>\n",
       "    <tr>\n",
       "      <th>0</th>\n",
       "      <td>(8.0, 7.937461665902083)</td>\n",
       "      <td>(2.0, 2.230408015977145)</td>\n",
       "      <td>(nan, 21.305346004349676)</td>\n",
       "      <td>(5.0, 4.854874025125911)</td>\n",
       "      <td>(4.0, 3.979170367041119)</td>\n",
       "    </tr>\n",
       "    <tr>\n",
       "      <th>1</th>\n",
       "      <td>(3.0, 2.9031634208352513)</td>\n",
       "      <td>(2.0, 2.3626270492362296)</td>\n",
       "      <td>(nan, -32.43760797595069)</td>\n",
       "      <td>(7.0, 6.770739934219383)</td>\n",
       "      <td>(7.0, 6.967427917574499)</td>\n",
       "    </tr>\n",
       "    <tr>\n",
       "      <th>2</th>\n",
       "      <td>(9.0, 8.936872043625552)</td>\n",
       "      <td>(nan, 4.62947920461969)</td>\n",
       "      <td>(7.0, 7.007523883949421)</td>\n",
       "      <td>(8.0, 8.05253363576117)</td>\n",
       "      <td>(5.0, 4.99980228710435)</td>\n",
       "    </tr>\n",
       "    <tr>\n",
       "      <th>3</th>\n",
       "      <td>(nan, 8.911220840185965)</td>\n",
       "      <td>(nan, 4.961328156890585)</td>\n",
       "      <td>(7.0, 7.000029181451457)</td>\n",
       "      <td>(8.0, 7.999282811614534)</td>\n",
       "      <td>(9.0, 8.999434839211375)</td>\n",
       "    </tr>\n",
       "    <tr>\n",
       "      <th>4</th>\n",
       "      <td>(nan, 4.910293189089428)</td>\n",
       "      <td>(1.0, 0.6839165979097902)</td>\n",
       "      <td>(8.0, 8.006541889287751)</td>\n",
       "      <td>(3.0, 3.2661322265232484)</td>\n",
       "      <td>(7.0, 7.027800003692679)</td>\n",
       "    </tr>\n",
       "    <tr>\n",
       "      <th>5</th>\n",
       "      <td>(2.0, 2.004927191735232)</td>\n",
       "      <td>(3.0, 2.9947382798376596)</td>\n",
       "      <td>(5.0, 4.999660795436882)</td>\n",
       "      <td>(nan, 0.013057630909453444)</td>\n",
       "      <td>(nan, 62.47900275294873)</td>\n",
       "    </tr>\n",
       "    <tr>\n",
       "      <th>6</th>\n",
       "      <td>(4.0, 4.445074053328606)</td>\n",
       "      <td>(2.0, 0.38687141440726003)</td>\n",
       "      <td>(nan, 6.265689044341696)</td>\n",
       "      <td>(2.0, 2.9806443877675424)</td>\n",
       "      <td>(7.0, 7.1410499097625175)</td>\n",
       "    </tr>\n",
       "    <tr>\n",
       "      <th>7</th>\n",
       "      <td>(7.0, 6.441100212372691)</td>\n",
       "      <td>(1.0, 2.9222877609108746)</td>\n",
       "      <td>(2.0, 2.063901357001854)</td>\n",
       "      <td>(7.0, 5.869238391549164)</td>\n",
       "      <td>(9.0, 8.835279563444987)</td>\n",
       "    </tr>\n",
       "    <tr>\n",
       "      <th>8</th>\n",
       "      <td>(3.0, 3.160004846127212)</td>\n",
       "      <td>(3.0, 2.4268554621594616)</td>\n",
       "      <td>(nan, -34.150554593351565)</td>\n",
       "      <td>(7.0, 7.336587176910389)</td>\n",
       "      <td>(3.0, 3.048345542170628)</td>\n",
       "    </tr>\n",
       "    <tr>\n",
       "      <th>9</th>\n",
       "      <td>(4.0, 4.166602142659847)</td>\n",
       "      <td>(nan, -0.14548044907313837)</td>\n",
       "      <td>(5.0, 4.993109604031358)</td>\n",
       "      <td>(3.0, 2.8690220220589433)</td>\n",
       "      <td>(3.0, 2.999173225008306)</td>\n",
       "    </tr>\n",
       "  </tbody>\n",
       "</table>\n",
       "</div>"
      ],
      "text/plain": [
       "         The Call of Cthulhu                 Frankenstein  \\\n",
       "0   (8.0, 7.937461665902083)     (2.0, 2.230408015977145)   \n",
       "1  (3.0, 2.9031634208352513)    (2.0, 2.3626270492362296)   \n",
       "2   (9.0, 8.936872043625552)      (nan, 4.62947920461969)   \n",
       "3   (nan, 8.911220840185965)     (nan, 4.961328156890585)   \n",
       "4   (nan, 4.910293189089428)    (1.0, 0.6839165979097902)   \n",
       "5   (2.0, 2.004927191735232)    (3.0, 2.9947382798376596)   \n",
       "6   (4.0, 4.445074053328606)   (2.0, 0.38687141440726003)   \n",
       "7   (7.0, 6.441100212372691)    (1.0, 2.9222877609108746)   \n",
       "8   (3.0, 3.160004846127212)    (3.0, 2.4268554621594616)   \n",
       "9   (4.0, 4.166602142659847)  (nan, -0.14548044907313837)   \n",
       "\n",
       "                      Dracula                  Neuromancer  \\\n",
       "0   (nan, 21.305346004349676)     (5.0, 4.854874025125911)   \n",
       "1   (nan, -32.43760797595069)     (7.0, 6.770739934219383)   \n",
       "2    (7.0, 7.007523883949421)      (8.0, 8.05253363576117)   \n",
       "3    (7.0, 7.000029181451457)     (8.0, 7.999282811614534)   \n",
       "4    (8.0, 8.006541889287751)    (3.0, 3.2661322265232484)   \n",
       "5    (5.0, 4.999660795436882)  (nan, 0.013057630909453444)   \n",
       "6    (nan, 6.265689044341696)    (2.0, 2.9806443877675424)   \n",
       "7    (2.0, 2.063901357001854)     (7.0, 5.869238391549164)   \n",
       "8  (nan, -34.150554593351565)     (7.0, 7.336587176910389)   \n",
       "9    (5.0, 4.993109604031358)    (3.0, 2.8690220220589433)   \n",
       "\n",
       "               Space Odyssey  \n",
       "0   (4.0, 3.979170367041119)  \n",
       "1   (7.0, 6.967427917574499)  \n",
       "2    (5.0, 4.99980228710435)  \n",
       "3   (9.0, 8.999434839211375)  \n",
       "4   (7.0, 7.027800003692679)  \n",
       "5   (nan, 62.47900275294873)  \n",
       "6  (7.0, 7.1410499097625175)  \n",
       "7   (9.0, 8.835279563444987)  \n",
       "8   (3.0, 3.048345542170628)  \n",
       "9   (3.0, 2.999173225008306)  "
      ]
     },
     "execution_count": 12,
     "metadata": {},
     "output_type": "execute_result"
    }
   ],
   "source": [
    "comparison_data"
   ]
  },
  {
   "cell_type": "code",
   "execution_count": 13,
   "metadata": {},
   "outputs": [],
   "source": [
    "d = comparison_data.to_latex()\n",
    "text_file = open(\"comparison.txt\", \"w\")\n",
    "text_file.write(d)\n",
    "text_file.close()"
   ]
  },
  {
   "cell_type": "code",
   "execution_count": null,
   "metadata": {},
   "outputs": [],
   "source": []
  },
  {
   "cell_type": "code",
   "execution_count": null,
   "metadata": {},
   "outputs": [],
   "source": []
  },
  {
   "cell_type": "code",
   "execution_count": null,
   "metadata": {},
   "outputs": [],
   "source": []
  },
  {
   "cell_type": "code",
   "execution_count": null,
   "metadata": {},
   "outputs": [],
   "source": []
  }
 ],
 "metadata": {
  "kernelspec": {
   "display_name": "Python 3",
   "language": "python",
   "name": "python3"
  },
  "language_info": {
   "codemirror_mode": {
    "name": "ipython",
    "version": 3
   },
   "file_extension": ".py",
   "mimetype": "text/x-python",
   "name": "python",
   "nbconvert_exporter": "python",
   "pygments_lexer": "ipython3",
   "version": "3.6.5"
  }
 },
 "nbformat": 4,
 "nbformat_minor": 1
}
